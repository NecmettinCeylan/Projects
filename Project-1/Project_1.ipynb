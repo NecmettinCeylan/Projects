{
 "cells": [
  {
   "cell_type": "code",
   "execution_count": 1,
   "metadata": {},
   "outputs": [],
   "source": [
    "import pandas as pd\n",
    "import numpy as np"
   ]
  },
  {
   "cell_type": "code",
   "execution_count": 3,
   "metadata": {},
   "outputs": [
    {
     "name": "stdout",
     "output_type": "stream",
     "text": [
      "   ST_NUM     ST_NAME OWN_OCCUPIED NUM_BEDROOMS\n",
      "0   104.0      PUTNAM            Y            3\n",
      "1   197.0   LEXINGTON            N            3\n",
      "2     NaN   LEXINGTON            N          NaN\n",
      "3   201.0    BERKELEY           12            1\n",
      "4   203.0    BERKELEY            Y            3\n",
      "5   207.0    BERKELEY            Y          NaN\n",
      "6     NaN  WASHINGTON          NaN            2\n",
      "7   213.0     TREMONT            Y           --\n",
      "8   215.0     TREMONT            Y           na\n"
     ]
    }
   ],
   "source": [
    "df = pd.read_csv(\"property data.csv\")\n",
    "print(df)"
   ]
  },
  {
   "cell_type": "code",
   "execution_count": 4,
   "metadata": {},
   "outputs": [
    {
     "name": "stdout",
     "output_type": "stream",
     "text": [
      "0    104.0\n",
      "1    197.0\n",
      "2      NaN\n",
      "3    201.0\n",
      "4    203.0\n",
      "5    207.0\n",
      "6      NaN\n",
      "7    213.0\n",
      "8    215.0\n",
      "Name: ST_NUM, dtype: float64\n",
      "0    False\n",
      "1    False\n",
      "2     True\n",
      "3    False\n",
      "4    False\n",
      "5    False\n",
      "6     True\n",
      "7    False\n",
      "8    False\n",
      "Name: ST_NUM, dtype: bool\n"
     ]
    }
   ],
   "source": [
    "print(df[\"ST_NUM\"])\n",
    "print(df[\"ST_NUM\"].isnull())"
   ]
  },
  {
   "cell_type": "code",
   "execution_count": 5,
   "metadata": {},
   "outputs": [
    {
     "name": "stdout",
     "output_type": "stream",
     "text": [
      "0      3\n",
      "1      3\n",
      "2    NaN\n",
      "3      1\n",
      "4      3\n",
      "5    NaN\n",
      "6      2\n",
      "7     --\n",
      "8     na\n",
      "Name: NUM_BEDROOMS, dtype: object\n",
      "0    False\n",
      "1    False\n",
      "2     True\n",
      "3    False\n",
      "4    False\n",
      "5     True\n",
      "6    False\n",
      "7    False\n",
      "8    False\n",
      "Name: NUM_BEDROOMS, dtype: bool\n"
     ]
    }
   ],
   "source": [
    "print(df[\"NUM_BEDROOMS\"])\n",
    "print(df[\"NUM_BEDROOMS\"].isnull())"
   ]
  },
  {
   "cell_type": "code",
   "execution_count": 7,
   "metadata": {},
   "outputs": [],
   "source": [
    "missing_values=[\"n/a\",\"na\",\"--\"]\n",
    "df = pd.read_csv(\"property data.csv\", na_values= missing_values)\n"
   ]
  },
  {
   "cell_type": "code",
   "execution_count": 8,
   "metadata": {},
   "outputs": [
    {
     "name": "stdout",
     "output_type": "stream",
     "text": [
      "0    3.0\n",
      "1    3.0\n",
      "2    NaN\n",
      "3    1.0\n",
      "4    3.0\n",
      "5    NaN\n",
      "6    2.0\n",
      "7    NaN\n",
      "8    NaN\n",
      "Name: NUM_BEDROOMS, dtype: float64\n",
      "0    False\n",
      "1    False\n",
      "2     True\n",
      "3    False\n",
      "4    False\n",
      "5     True\n",
      "6    False\n",
      "7     True\n",
      "8     True\n",
      "Name: NUM_BEDROOMS, dtype: bool\n"
     ]
    }
   ],
   "source": [
    "print(df[\"NUM_BEDROOMS\"])\n",
    "print(df[\"NUM_BEDROOMS\"].isnull())"
   ]
  },
  {
   "cell_type": "code",
   "execution_count": 9,
   "metadata": {},
   "outputs": [
    {
     "name": "stdout",
     "output_type": "stream",
     "text": [
      "0      Y\n",
      "1      N\n",
      "2      N\n",
      "3     12\n",
      "4      Y\n",
      "5      Y\n",
      "6    NaN\n",
      "7      Y\n",
      "8      Y\n",
      "Name: OWN_OCCUPIED, dtype: object\n",
      "0    False\n",
      "1    False\n",
      "2    False\n",
      "3    False\n",
      "4    False\n",
      "5    False\n",
      "6     True\n",
      "7    False\n",
      "8    False\n",
      "Name: OWN_OCCUPIED, dtype: bool\n"
     ]
    }
   ],
   "source": [
    "print(df[\"OWN_OCCUPIED\"])\n",
    "print(df[\"OWN_OCCUPIED\"].isnull())"
   ]
  },
  {
   "cell_type": "code",
   "execution_count": 10,
   "metadata": {},
   "outputs": [],
   "source": [
    "cnt = 0\n",
    "for row in df[\"OWN_OCCUPIED\"]:\n",
    "    try:\n",
    "        int(row)\n",
    "        df.loc[cnt, \"OWN_OCCUPIED\"] =np.nan\n",
    "    except ValueError:\n",
    "        pass\n",
    "    cnt+=1"
   ]
  },
  {
   "cell_type": "code",
   "execution_count": 11,
   "metadata": {},
   "outputs": [
    {
     "name": "stdout",
     "output_type": "stream",
     "text": [
      "0      Y\n",
      "1      N\n",
      "2      N\n",
      "3    NaN\n",
      "4      Y\n",
      "5      Y\n",
      "6    NaN\n",
      "7      Y\n",
      "8      Y\n",
      "Name: OWN_OCCUPIED, dtype: object\n",
      "0    False\n",
      "1    False\n",
      "2    False\n",
      "3     True\n",
      "4    False\n",
      "5    False\n",
      "6     True\n",
      "7    False\n",
      "8    False\n",
      "Name: OWN_OCCUPIED, dtype: bool\n"
     ]
    }
   ],
   "source": [
    "print(df[\"OWN_OCCUPIED\"])\n",
    "print(df[\"OWN_OCCUPIED\"].isnull())"
   ]
  },
  {
   "cell_type": "code",
   "execution_count": 12,
   "metadata": {},
   "outputs": [
    {
     "name": "stdout",
     "output_type": "stream",
     "text": [
      "   ST_NUM  ST_NAME  OWN_OCCUPIED  NUM_BEDROOMS\n",
      "0   False    False         False         False\n",
      "1   False    False         False         False\n",
      "2    True    False         False          True\n",
      "3   False    False          True         False\n",
      "4   False    False         False         False\n",
      "5   False    False         False          True\n",
      "6    True    False          True         False\n",
      "7   False    False         False          True\n",
      "8   False    False         False          True\n"
     ]
    }
   ],
   "source": [
    "print(df.isnull())"
   ]
  },
  {
   "cell_type": "code",
   "execution_count": 13,
   "metadata": {},
   "outputs": [
    {
     "name": "stdout",
     "output_type": "stream",
     "text": [
      "ST_NUM          2\n",
      "ST_NAME         0\n",
      "OWN_OCCUPIED    2\n",
      "NUM_BEDROOMS    4\n",
      "dtype: int64\n"
     ]
    }
   ],
   "source": [
    "print(df.isnull().sum())"
   ]
  },
  {
   "cell_type": "code",
   "execution_count": 14,
   "metadata": {},
   "outputs": [
    {
     "name": "stdout",
     "output_type": "stream",
     "text": [
      "True\n"
     ]
    }
   ],
   "source": [
    "print(df.isnull().values.any())"
   ]
  },
  {
   "cell_type": "code",
   "execution_count": 16,
   "metadata": {},
   "outputs": [
    {
     "name": "stdout",
     "output_type": "stream",
     "text": [
      "8\n"
     ]
    }
   ],
   "source": [
    "print(df.isnull().sum().sum()) #total number of missing values"
   ]
  },
  {
   "cell_type": "code",
   "execution_count": 17,
   "metadata": {},
   "outputs": [
    {
     "name": "stdout",
     "output_type": "stream",
     "text": [
      "   ST_NUM     ST_NAME OWN_OCCUPIED  NUM_BEDROOMS\n",
      "0   104.0      PUTNAM            Y           3.0\n",
      "1   197.0   LEXINGTON            N           3.0\n",
      "2     NaN   LEXINGTON            N           NaN\n",
      "3   201.0    BERKELEY          NaN           1.0\n",
      "4   203.0    BERKELEY            Y           3.0\n",
      "5   207.0    BERKELEY            Y           NaN\n",
      "6     NaN  WASHINGTON          NaN           2.0\n",
      "7   213.0     TREMONT            Y           NaN\n",
      "8   215.0     TREMONT            Y           NaN\n"
     ]
    }
   ],
   "source": [
    "print(df)"
   ]
  },
  {
   "cell_type": "code",
   "execution_count": 18,
   "metadata": {},
   "outputs": [
    {
     "name": "stdout",
     "output_type": "stream",
     "text": [
      "0    104.0\n",
      "1    197.0\n",
      "2    125.0\n",
      "3    201.0\n",
      "4    203.0\n",
      "5    207.0\n",
      "6    125.0\n",
      "7    213.0\n",
      "8    215.0\n",
      "Name: ST_NUM, dtype: float64\n"
     ]
    }
   ],
   "source": [
    "df[\"ST_NUM\"].fillna(125, inplace=True) #inplace makes changes permanent\n",
    "print(df[\"ST_NUM\"])\n",
    "\n"
   ]
  },
  {
   "cell_type": "code",
   "execution_count": 19,
   "metadata": {},
   "outputs": [
    {
     "name": "stdout",
     "output_type": "stream",
     "text": [
      "0    104.0\n",
      "1    197.0\n",
      "2    125.0\n",
      "3    201.0\n",
      "4    203.0\n",
      "5    207.0\n",
      "6    125.0\n",
      "7    213.0\n",
      "8    215.0\n",
      "Name: ST_NUM, dtype: float64\n",
      "0    104.0\n",
      "1    197.0\n",
      "2    999.0\n",
      "3    201.0\n",
      "4    203.0\n",
      "5    207.0\n",
      "6    125.0\n",
      "7    213.0\n",
      "8    215.0\n",
      "Name: ST_NUM, dtype: float64\n"
     ]
    }
   ],
   "source": [
    "print(df[\"ST_NUM\"])\n",
    "df.loc[2,\"ST_NUM\"] = 999\n",
    "print(df[\"ST_NUM\"])\n"
   ]
  },
  {
   "cell_type": "code",
   "execution_count": 20,
   "metadata": {},
   "outputs": [
    {
     "name": "stdout",
     "output_type": "stream",
     "text": [
      "0    3.0\n",
      "1    3.0\n",
      "2    NaN\n",
      "3    1.0\n",
      "4    3.0\n",
      "5    NaN\n",
      "6    2.0\n",
      "7    NaN\n",
      "8    NaN\n",
      "Name: NUM_BEDROOMS, dtype: float64\n",
      "3.0\n",
      "0    3.0\n",
      "1    3.0\n",
      "2    3.0\n",
      "3    1.0\n",
      "4    3.0\n",
      "5    3.0\n",
      "6    2.0\n",
      "7    3.0\n",
      "8    3.0\n",
      "Name: NUM_BEDROOMS, dtype: float64\n"
     ]
    }
   ],
   "source": [
    "print(df[\"NUM_BEDROOMS\"])\n",
    "median = df[\"NUM_BEDROOMS\"].median()\n",
    "print(median)\n",
    "df[\"NUM_BEDROOMS\"].fillna(median, inplace=True)\n",
    "print(df[\"NUM_BEDROOMS\"])\n"
   ]
  },
  {
   "cell_type": "markdown",
   "metadata": {},
   "source": [
    "# Usually changing with mean or median is bad idea"
   ]
  },
  {
   "cell_type": "code",
   "execution_count": null,
   "metadata": {},
   "outputs": [],
   "source": []
  }
 ],
 "metadata": {
  "kernelspec": {
   "display_name": "Python 3",
   "language": "python",
   "name": "python3"
  },
  "language_info": {
   "codemirror_mode": {
    "name": "ipython",
    "version": 3
   },
   "file_extension": ".py",
   "mimetype": "text/x-python",
   "name": "python",
   "nbconvert_exporter": "python",
   "pygments_lexer": "ipython3",
   "version": "3.7.1"
  }
 },
 "nbformat": 4,
 "nbformat_minor": 2
}
