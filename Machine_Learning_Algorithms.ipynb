{
 "cells": [
  {
   "cell_type": "markdown",
   "metadata": {},
   "source": []
  },
  {
   "cell_type": "markdown",
   "metadata": {},
   "source": [
    "#  <center> Machine Learning <center>\n",
    "## What is machine learning ?\n",
    "\n",
    "    Machine learning is an application of artificial intelligence (AI) that provides systems the ability to automatically learn and improve from experience without being explicitly programmed. Machine learning focuses on the development of computer programs that can access data and use it learn for themselves.\n",
    "\n",
    "    Another definition for Machine Learning is the science of getting computers to learn and act like humans do, and improve their learning over time in autonomous fashion, by feeding them data and information in the form of observations and real-world interactions.\n",
    "    \n",
    "## Examples of machine learning\n",
    "    \n",
    "    Google's self-driving car\n",
    "    Netflix's recommendation offers\n",
    "    Image recognition of Facebook and others\n",
    "    Speech recognitions"
   ]
  },
  {
   "cell_type": "markdown",
   "metadata": {},
   "source": [
    "<img src=\"files/1_9Eu_-DDMZ_bP_t94_MMEYA.png\">\n"
   ]
  },
  {
   "cell_type": "markdown",
   "metadata": {},
   "source": [
    "<img src=\"files/1_ZCeOEBhvEVLmwCh7vr2RVA.png\">\n"
   ]
  },
  {
   "cell_type": "markdown",
   "metadata": {},
   "source": [
    "# <center> Table of Contents <center>\n",
    "\n",
    "# 1. Supervised Learning\n",
    "> ##  1.1 Regression\n",
    ">> ### 1.1.1 Simple Linear Regression        \n",
    ">> ### 1.1.2 Multiple Linear Regression\n",
    ">> ### 1.1.3 Polynomial Regression\n",
    ">> ### 1.1.4 Support Vector Regression (SVR)\n",
    ">> ### 1.1.5  Decision Tree Regression\n",
    ">> ### 1.1.6  Random Forest Regression\n",
    "\n",
    "> ## 1.2 Classification\n",
    ">> ### 1.2.1 Logistic Regression\n",
    ">> ### 1.2.2 K-Nearest Neighbors (K-NN)\n",
    ">> ### 1.2.3 Support Vector Machine (SVM)\n",
    ">> ### 1.2.4 Kernel SVM\n",
    ">> ### 1.2.5 Naive Bayes\n",
    ">> ### 1.2.6 Decision Tree Classification\n",
    ">> ### 1.2.7 Random Forest Classification\n",
    "\n",
    "# 2. Unsupervised Learning\n",
    "> ## 2.1 Clustering\n",
    ">> ### 2.1.1  K-Means Clustering\n",
    ">> ### 2.1.2  Hierarchical Clustering\n",
    "> ## 2.2 Anomaly Detection\n",
    ">> ### 2.2.1 Local Outlier Factor"
   ]
  },
  {
   "cell_type": "markdown",
   "metadata": {},
   "source": [
    "# <center> Contents </center>\n"
   ]
  },
  {
   "cell_type": "markdown",
   "metadata": {},
   "source": [
    "# 1.1 Regression"
   ]
  },
  {
   "cell_type": "markdown",
   "metadata": {},
   "source": [
    ">## 1.1.1 Simple Linear Regression"
   ]
  },
  {
   "cell_type": "markdown",
   "metadata": {},
   "source": [
    ">## 1.1.2 Multiple Linear Regression"
   ]
  },
  {
   "cell_type": "markdown",
   "metadata": {},
   "source": [
    ">## 1.1.3 Polynomial Regression"
   ]
  },
  {
   "cell_type": "markdown",
   "metadata": {},
   "source": [
    ">## 1.1.4 Support Vector Regression (SVR)"
   ]
  },
  {
   "cell_type": "markdown",
   "metadata": {},
   "source": [
    ">## 1.1.5 Decision Tree Regression"
   ]
  },
  {
   "cell_type": "markdown",
   "metadata": {},
   "source": [
    ">## 1.1.6 Random Forest Regression"
   ]
  },
  {
   "cell_type": "markdown",
   "metadata": {},
   "source": [
    "# 1.2 Classification\n"
   ]
  },
  {
   "cell_type": "markdown",
   "metadata": {},
   "source": [
    "> ## 1.2.1 Logistic Regression\n"
   ]
  },
  {
   "cell_type": "markdown",
   "metadata": {},
   "source": [
    "> ## 1.2.2 K-Nearest Neighbors (K-NN)\n",
    "\n",
    "\n"
   ]
  },
  {
   "cell_type": "markdown",
   "metadata": {},
   "source": [
    "> ## 1.2.3 Support Vector Machine (SVM)\n"
   ]
  },
  {
   "cell_type": "markdown",
   "metadata": {},
   "source": [
    "> ## 1.2.4 Kernel SVM\n"
   ]
  },
  {
   "cell_type": "markdown",
   "metadata": {},
   "source": [
    "> ## 1.2.5 Naive Bayes\n"
   ]
  },
  {
   "cell_type": "markdown",
   "metadata": {},
   "source": [
    "> ## 1.2.6 Decision Tree Classification\n"
   ]
  },
  {
   "cell_type": "markdown",
   "metadata": {},
   "source": [
    "> ## 1.2.7 Random Forest Classification\n"
   ]
  },
  {
   "cell_type": "code",
   "execution_count": null,
   "metadata": {},
   "outputs": [],
   "source": []
  },
  {
   "cell_type": "code",
   "execution_count": null,
   "metadata": {},
   "outputs": [],
   "source": []
  },
  {
   "cell_type": "code",
   "execution_count": null,
   "metadata": {},
   "outputs": [],
   "source": []
  },
  {
   "cell_type": "markdown",
   "metadata": {},
   "source": [
    "<img src=\"files/picture1.png\">"
   ]
  },
  {
   "cell_type": "markdown",
   "metadata": {},
   "source": []
  },
  {
   "cell_type": "code",
   "execution_count": null,
   "metadata": {},
   "outputs": [],
   "source": []
  }
 ],
 "metadata": {
  "kernelspec": {
   "display_name": "Python 3",
   "language": "python",
   "name": "python3"
  },
  "language_info": {
   "codemirror_mode": {
    "name": "ipython",
    "version": 3
   },
   "file_extension": ".py",
   "mimetype": "text/x-python",
   "name": "python",
   "nbconvert_exporter": "python",
   "pygments_lexer": "ipython3",
   "version": "3.7.3"
  }
 },
 "nbformat": 4,
 "nbformat_minor": 2
}
