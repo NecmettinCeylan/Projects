{
 "cells": [
  {
   "cell_type": "code",
   "execution_count": null,
   "metadata": {},
   "outputs": [],
   "source": []
  },
  {
   "cell_type": "markdown",
   "metadata": {},
   "source": [
    "#  <center> Machine Learning <center>\n",
    "## What is machine learning ?\n",
    "\n",
    "    Machine learning is an application of artificial intelligence (AI) that provides systems the ability to automatically learn and improve from experience without being explicitly programmed. Machine learning focuses on the development of computer programs that can access data and use it learn for themselves.\n",
    "\n",
    "    Another definition for Machine Learning is the science of getting computers to learn and act like humans do, and improve their learning over time in autonomous fashion, by feeding them data and information in the form of observations and real-world interactions.\n",
    "    \n",
    "## Examples of machine learning\n",
    "    \n",
    "    Google's self-driving car\n",
    "    Netflix's recommendation offers\n",
    "    Image recognition of Facebook and others\n",
    "    Speech recognitions"
   ]
  },
  {
   "cell_type": "markdown",
   "metadata": {},
   "source": [
    "<img src=\"files/1_9Eu_-DDMZ_bP_t94_MMEYA.png\">\n"
   ]
  },
  {
   "cell_type": "markdown",
   "metadata": {},
   "source": [
    "<img src=\"files/1_ZCeOEBhvEVLmwCh7vr2RVA.png\">\n"
   ]
  },
  {
   "cell_type": "markdown",
   "metadata": {},
   "source": [
    "------------------------------------------------------------------------------------------------------------------------------"
   ]
  },
  {
   "cell_type": "markdown",
   "metadata": {},
   "source": [
    "# <center> Table of Contents <center>\n"
   ]
  },
  {
   "cell_type": "markdown",
   "metadata": {},
   "source": [
    "------------------------------------------------------------------------------------------------------------------------------"
   ]
  },
  {
   "cell_type": "markdown",
   "metadata": {},
   "source": [
    "\n",
    "# 1. Supervised Learning\n",
    "> ##  1.1 Regression\n",
    ">> ### 1.1.1 Simple Linear Regression        \n",
    ">> ### 1.1.2 Multiple Linear Regression\n",
    ">> ### 1.1.3 Polynomial Regression\n",
    ">> ### 1.1.4 Support Vector Regression (SVR)\n",
    ">> ### 1.1.5  Decision Tree Regression\n",
    ">> ### 1.1.6  Random Forest Regression\n",
    "\n",
    "> ## 1.2 Classification\n",
    ">> ### 1.2.1 Logistic Regression\n",
    ">> ### 1.2.2 K-Nearest Neighbors (K-NN)\n",
    ">> ### 1.2.3 Support Vector Machine (SVM)\n",
    ">> ### 1.2.4 Kernel SVM\n",
    ">> ### 1.2.5 Naive Bayes\n",
    ">> ### 1.2.6 Decision Tree Classification\n",
    ">> ### 1.2.7 Random Forest Classification\n",
    "\n",
    "# 2. Unsupervised Learning\n",
    "> ## 2.1 Clustering\n",
    ">> ### 2.1.1  K-Means Clustering\n",
    ">> ### 2.1.2  Hierarchical Clustering\n",
    "> ## 2.2 Anomaly Detection\n",
    ">> ### 2.2.1 Local Outlier Factor\n",
    "\n",
    "\n"
   ]
  },
  {
   "cell_type": "markdown",
   "metadata": {},
   "source": [
    "------------------------------------------------------------------------------------------------------------------------------"
   ]
  },
  {
   "cell_type": "markdown",
   "metadata": {},
   "source": [
    "# <center> Contents </center>\n"
   ]
  },
  {
   "cell_type": "markdown",
   "metadata": {},
   "source": [
    "------------------------------------------------------------------------------------------------------------------------------"
   ]
  },
  {
   "cell_type": "markdown",
   "metadata": {},
   "source": [
    "# 1.1 Regression"
   ]
  },
  {
   "cell_type": "markdown",
   "metadata": {},
   "source": [
    ">## 1.1.1 Simple Linear Regression\n",
    "    Definition: In this regression model. By using y = a + bx formula algorithm finds best values for a and b and then fits data with one straight line \n",
    "    Example: Determining salary using only years of experiance\n",
    "    Visualization:\n",
    "<img src=\"files/linearregres.png\">\n"
   ]
  },
  {
   "cell_type": "markdown",
   "metadata": {},
   "source": [
    ">## 1.1.2 Multiple Linear Regression\n",
    "    Definition: In this regression model. By using y = a + bx formula algorithm finds best values for a and b and then fits data with one straight line \n",
    "    Example: Determining salary using only years of experiance\n",
    "    Visualization:\n"
   ]
  },
  {
   "cell_type": "markdown",
   "metadata": {},
   "source": [
    ">## 1.1.3 Polynomial Regression\n",
    "    Definition: Some data's connect be explained with streight line for these kind of datas we use Polynomial regression\n",
    "    Example:\n",
    "    Visualization:\n",
    "<img src=\"files/polyreg.png\" style=\"width: 40%; height: 40%\">\n",
    "\n"
   ]
  },
  {
   "cell_type": "markdown",
   "metadata": {},
   "source": [
    ">## 1.1.4 Support Vector Regression (SVR)\n",
    "    Definition: \n",
    "    Example:\n",
    "    Visualization:\n"
   ]
  },
  {
   "cell_type": "markdown",
   "metadata": {},
   "source": [
    ">## 1.1.5 Decision Tree Regression\n",
    "    Definition: \n",
    "    Example:\n",
    "    Visualization:\n"
   ]
  },
  {
   "cell_type": "markdown",
   "metadata": {},
   "source": [
    ">## 1.1.6 Random Forest Regression\n",
    "    Definition: \n",
    "    Example:\n",
    "    Visualization:\n"
   ]
  },
  {
   "cell_type": "markdown",
   "metadata": {},
   "source": [
    "# 1.2 Classification\n"
   ]
  },
  {
   "cell_type": "markdown",
   "metadata": {},
   "source": [
    "> ## 1.2.1 Logistic Regression\n",
    "    Definition: \n",
    "    Example:\n",
    "    Visualization:\n"
   ]
  },
  {
   "cell_type": "markdown",
   "metadata": {},
   "source": [
    "> ## 1.2.2 K-Nearest Neighbors (K-NN)\n",
    "    Definition: Cheks closest elements and if most of the elements one type then assigns it to this type\n",
    "    Example: \n",
    "    Visualization: If we put one green point as shown below, if k = 3 it will check closest 3 element and assigned to red but if k = 5 then it will check closest 3 element and assigned to blue \n",
    "    \n",
    "<img src=\"files/knn3.png\" style=\"width: 40%; height: 40%\">\n",
    "\n",
    "\n"
   ]
  },
  {
   "cell_type": "markdown",
   "metadata": {},
   "source": [
    "> ## 1.2.3 Support Vector Machine (SVM)\n"
   ]
  },
  {
   "cell_type": "markdown",
   "metadata": {},
   "source": [
    "> ## 1.2.4 Kernel SVM\n"
   ]
  },
  {
   "cell_type": "markdown",
   "metadata": {},
   "source": [
    "> ## 1.2.5 Naive Bayes\n"
   ]
  },
  {
   "cell_type": "markdown",
   "metadata": {},
   "source": [
    "> ## 1.2.6 Decision Tree Classification\n",
    "    Definition: \n",
    "    Example: \n",
    "    Visualization: On the left side data and right side is visualization of Decision Tree Classification algorithm\n",
    "<img src=\"files/Decision_Tree_1.png\" style=\"width: 100%; height: 100%\">\n",
    "\n"
   ]
  },
  {
   "cell_type": "markdown",
   "metadata": {},
   "source": [
    "> ## 1.2.7 Random Forest Classification\n"
   ]
  },
  {
   "cell_type": "markdown",
   "metadata": {},
   "source": [
    "    Definition: \n",
    "    Example: \n",
    "    Visualization: \n",
    "<img src=\"files/knn3.png\" style=\"width: 40%; height: 40%\">\n"
   ]
  },
  {
   "cell_type": "markdown",
   "metadata": {},
   "source": []
  },
  {
   "cell_type": "code",
   "execution_count": null,
   "metadata": {},
   "outputs": [],
   "source": []
  },
  {
   "cell_type": "markdown",
   "metadata": {},
   "source": [
    "# 2.1 Clustering\n"
   ]
  },
  {
   "cell_type": "markdown",
   "metadata": {},
   "source": [
    ">## 2.1.1  K-Means Clustering\n"
   ]
  },
  {
   "cell_type": "markdown",
   "metadata": {},
   "source": [
    ">## 2.1.2  Hierarchical Clustering\n"
   ]
  },
  {
   "cell_type": "markdown",
   "metadata": {},
   "source": [
    "# 2.2 Anomaly Detection\n"
   ]
  },
  {
   "cell_type": "markdown",
   "metadata": {},
   "source": [
    ">## 2.2.1 Local Outlier Factor\n"
   ]
  },
  {
   "cell_type": "code",
   "execution_count": null,
   "metadata": {},
   "outputs": [],
   "source": []
  },
  {
   "cell_type": "code",
   "execution_count": null,
   "metadata": {},
   "outputs": [],
   "source": []
  },
  {
   "cell_type": "code",
   "execution_count": null,
   "metadata": {},
   "outputs": [],
   "source": []
  },
  {
   "cell_type": "markdown",
   "metadata": {},
   "source": [
    "<img src=\"files/picture1.png\">"
   ]
  },
  {
   "cell_type": "markdown",
   "metadata": {},
   "source": []
  },
  {
   "cell_type": "code",
   "execution_count": null,
   "metadata": {},
   "outputs": [],
   "source": []
  }
 ],
 "metadata": {
  "kernelspec": {
   "display_name": "Python 3",
   "language": "python",
   "name": "python3"
  },
  "language_info": {
   "codemirror_mode": {
    "name": "ipython",
    "version": 3
   },
   "file_extension": ".py",
   "mimetype": "text/x-python",
   "name": "python",
   "nbconvert_exporter": "python",
   "pygments_lexer": "ipython3",
   "version": "3.7.3"
  }
 },
 "nbformat": 4,
 "nbformat_minor": 2
}
